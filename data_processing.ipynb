{
 "cells": [
  {
   "cell_type": "code",
   "execution_count": null,
   "id": "6b69efd3",
   "metadata": {},
   "outputs": [],
   "source": [
    "# Importing Libraries\n",
    "import h5py\n",
    "import os\n",
    "from pathlib import Path\n",
    "import matplotlib.pyplot as plt\n",
    "import numpy as np"
   ]
  },
  {
   "cell_type": "code",
   "execution_count": null,
   "id": "d976ca70",
   "metadata": {},
   "outputs": [],
   "source": [
    "base_directory = os.path.join(os.getcwd(), \"typhon_images\", \"image\")\n",
    "h5_file_paths = []\n",
    "\n",
    "# collecting the .h5 files\n",
    "for i in range(197901, 197911):\n",
    "    target_path = os.path.join(base_directory, str(i))\n",
    "    FILE_PATH = Path(target_path)          # converting the target path into a path object\n",
    "    for file in FILE_PATH.glob(\"*.h5\"):\n",
    "        h5_file_paths.append(file)\n",
    "\n",
    "print(h5_file_paths)\n",
    "\n",
    "# opening and inspecting each image file\n",
    "for path in h5_file_paths:\n",
    "    with h5py.File(path, \"r\") as f:\n",
    "        print(f\"File: {path.name}\")\n",
    "        print(\"Keys in file:\", list(f.keys()))\n",
    "        infrared_data = f['Infrared']\n",
    "        print(type(infrared_data))\n",
    "\n",
    "        #  checking shape and dtype of the dataset\n",
    "        if isinstance(infrared_data, h5py.Dataset):\n",
    "            print(\"Shape:\", infrared_data.shape)\n",
    "            print(\"Data type:\", infrared_data.dtype)\n",
    "\n",
    "            data = infrared_data[:]\n",
    "            print(data)\n",
    "\n",
    "    plt.imshow(data, cmap='grey')  \n",
    "    plt.colorbar(label=\"Temperature (K)\")\n",
    "    plt.title(\"Infrared Satellite Image\")\n",
    "    plt.show()\n",
    "\n"
   ]
  },
  {
   "cell_type": "markdown",
   "id": "89b25985",
   "metadata": {},
   "source": [
    "This is probably a thermal infrared image from a geostationary meteorological satellite (like GMS-1) — where:\n",
    "\n",
    "Warmer areas (land, clouds) appear brighter (higher values).\n",
    "\n",
    "Cooler areas (high clouds, ocean) appear darker (lower values)."
   ]
  },
  {
   "cell_type": "markdown",
   "id": "e03271ae",
   "metadata": {},
   "source": [
    "### Normalization of the Satellite Images\n",
    "\n",
    "Normalizing the images "
   ]
  },
  {
   "cell_type": "code",
   "execution_count": null,
   "id": "85fa92fa",
   "metadata": {},
   "outputs": [],
   "source": [
    "for path in h5_file_paths:\n",
    "    with h5py.File(path, \"r\") as file:\n",
    "        data = file['Infrared'][:]\n",
    "\n",
    "    # Normalize to [0, 1]\n",
    "    data_min = np.min(data)\n",
    "    data_max = np.max(data)\n",
    "    normalized_data = (data - data_min) / (data_max - data_min)\n",
    "\n",
    "    # Ploting normalized image\n",
    "    plt.imshow(normalized_data, cmap='grey')\n",
    "    plt.colorbar(label=\"Normalized Intensity (0 to 1)\")\n",
    "    plt.title(\"Normalized Infrared Satellite Image\")\n",
    "    plt.show()\n"
   ]
  },
  {
   "cell_type": "code",
   "execution_count": null,
   "id": "c9c69b46",
   "metadata": {},
   "outputs": [],
   "source": []
  }
 ],
 "metadata": {
  "kernelspec": {
   "display_name": "Python 3",
   "language": "python",
   "name": "python3"
  },
  "language_info": {
   "codemirror_mode": {
    "name": "ipython",
    "version": 3
   },
   "file_extension": ".py",
   "mimetype": "text/x-python",
   "name": "python",
   "nbconvert_exporter": "python",
   "pygments_lexer": "ipython3",
   "version": "3.12.3"
  }
 },
 "nbformat": 4,
 "nbformat_minor": 5
}
